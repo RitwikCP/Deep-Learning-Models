{
  "nbformat": 4,
  "nbformat_minor": 0,
  "metadata": {
    "colab": {
      "provenance": []
    },
    "kernelspec": {
      "name": "python3",
      "display_name": "Python 3"
    }
  },
  "cells": [
    {
      "cell_type": "markdown",
      "metadata": {
        "id": "3DR-eO17geWu"
      },
      "source": [
        "# Convolutional Neural Network"
      ]
    },
    {
      "cell_type": "markdown",
      "metadata": {
        "id": "EMefrVPCg-60"
      },
      "source": [
        "### Importing the libraries\n",
        "\n",
        "\n"
      ]
    },
    {
      "cell_type": "code",
      "source": [
        "from keras_preprocessing.image.image_data_generator import ImageDataGenerator\n",
        "import tensorflow as tf\n",
        "from keras.preprocessing.image import ImageDataGenerator\n",
        "from keras.backend import conv2d"
      ],
      "metadata": {
        "id": "CmAQLbIwVCwS"
      },
      "execution_count": 25,
      "outputs": []
    },
    {
      "cell_type": "code",
      "source": [
        "tf.__version__"
      ],
      "metadata": {
        "colab": {
          "base_uri": "https://localhost:8080/",
          "height": 35
        },
        "id": "xtfXDYpKVegS",
        "outputId": "7187a909-fccd-4780-b68a-429cb4af4a5d"
      },
      "execution_count": 2,
      "outputs": [
        {
          "output_type": "execute_result",
          "data": {
            "text/plain": [
              "'2.9.2'"
            ],
            "application/vnd.google.colaboratory.intrinsic+json": {
              "type": "string"
            }
          },
          "metadata": {},
          "execution_count": 2
        }
      ]
    },
    {
      "cell_type": "code",
      "source": [
        "from google.colab import drive\n",
        "drive.mount('/content/drive')"
      ],
      "metadata": {
        "colab": {
          "base_uri": "https://localhost:8080/"
        },
        "id": "G2vg_ADnBNeU",
        "outputId": "36d6a342-ded8-4b59-bfb3-95c1e5b7b678"
      },
      "execution_count": 3,
      "outputs": [
        {
          "output_type": "stream",
          "name": "stdout",
          "text": [
            "Mounted at /content/drive\n"
          ]
        }
      ]
    },
    {
      "cell_type": "markdown",
      "metadata": {
        "id": "oxQxCBWyoGPE"
      },
      "source": [
        "## Part 1 - Data Preprocessing"
      ]
    },
    {
      "cell_type": "markdown",
      "metadata": {
        "id": "MvE-heJNo3GG"
      },
      "source": [
        "### Preprocessing the Training set"
      ]
    },
    {
      "cell_type": "code",
      "source": [
        "train_datagen = ImageDataGenerator(\n",
        "    rescale = 1./255,\n",
        "    shear_range = 0.2,\n",
        "    zoom_range = 0.2,\n",
        "    horizontal_flip = True\n",
        ")\n",
        "training_set = train_datagen.flow_from_directory(\n",
        "    '/content/drive/MyDrive/dataset/training_set',\n",
        "    target_size = (64,64),\n",
        "    batch_size = 32,\n",
        "    class_mode = 'binary'\n",
        ")"
      ],
      "metadata": {
        "id": "gdES_PiYVnLa",
        "colab": {
          "base_uri": "https://localhost:8080/"
        },
        "outputId": "57592b71-fdbc-4bb7-cf44-4439e444f72a"
      },
      "execution_count": 4,
      "outputs": [
        {
          "output_type": "stream",
          "name": "stdout",
          "text": [
            "Found 8010 images belonging to 2 classes.\n"
          ]
        }
      ]
    },
    {
      "cell_type": "markdown",
      "metadata": {
        "id": "mrCMmGw9pHys"
      },
      "source": [
        "### Preprocessing the Test set"
      ]
    },
    {
      "cell_type": "code",
      "source": [
        "test_datagen = ImageDataGenerator(rescale = 1./255)\n",
        "test_set = test_datagen.flow_from_directory(\n",
        "    '/content/drive/MyDrive/dataset/test_set',\n",
        "    target_size = (64,64),\n",
        "    batch_size = 32,\n",
        "    class_mode = 'binary'\n",
        ")"
      ],
      "metadata": {
        "id": "_dT6iqSdbnkm",
        "colab": {
          "base_uri": "https://localhost:8080/"
        },
        "outputId": "5d122b4f-e4b7-47ab-d349-b0b2c4bb9359"
      },
      "execution_count": 5,
      "outputs": [
        {
          "output_type": "stream",
          "name": "stdout",
          "text": [
            "Found 2000 images belonging to 2 classes.\n"
          ]
        }
      ]
    },
    {
      "cell_type": "markdown",
      "metadata": {
        "id": "af8O4l90gk7B"
      },
      "source": [
        "## Part 2 - Building the CNN"
      ]
    },
    {
      "cell_type": "markdown",
      "metadata": {
        "id": "ces1gXY2lmoX"
      },
      "source": [
        "### Initialising the CNN"
      ]
    },
    {
      "cell_type": "code",
      "source": [
        "cnn = tf.keras.models.Sequential()"
      ],
      "metadata": {
        "id": "Rr72iQZLcm3B"
      },
      "execution_count": 6,
      "outputs": []
    },
    {
      "cell_type": "markdown",
      "metadata": {
        "id": "u5YJj_XMl5LF"
      },
      "source": [
        "### Step 1 - Convolution"
      ]
    },
    {
      "cell_type": "code",
      "source": [
        "cnn.add(tf.keras.layers.Conv2D(filters = 32,kernel_size = 3, activation = 'relu', input_shape = [64,64,3]))"
      ],
      "metadata": {
        "id": "8mLaKGE_cXXa"
      },
      "execution_count": 7,
      "outputs": []
    },
    {
      "cell_type": "markdown",
      "metadata": {
        "id": "tf87FpvxmNOJ"
      },
      "source": [
        "### Step 2 - Pooling"
      ]
    },
    {
      "cell_type": "code",
      "source": [
        "cnn.add(tf.keras.layers.MaxPool2D(pool_size = 2, strides = 2))"
      ],
      "metadata": {
        "id": "e57qRYz7dwB0"
      },
      "execution_count": 8,
      "outputs": []
    },
    {
      "cell_type": "markdown",
      "metadata": {
        "id": "xaTOgD8rm4mU"
      },
      "source": [
        "### Adding a second convolutional layer"
      ]
    },
    {
      "cell_type": "code",
      "source": [
        "cnn.add(tf.keras.layers.Conv2D(filters = 32,kernel_size = 3, activation = 'relu'))\n",
        "cnn.add(tf.keras.layers.MaxPool2D(pool_size = 2, strides = 2))"
      ],
      "metadata": {
        "id": "0pb_ithhevR3"
      },
      "execution_count": 9,
      "outputs": []
    },
    {
      "cell_type": "markdown",
      "metadata": {
        "id": "tmiEuvTunKfk"
      },
      "source": [
        "### Step 3 - Flattening"
      ]
    },
    {
      "cell_type": "code",
      "source": [
        "cnn.add(tf.keras.layers.Flatten())"
      ],
      "metadata": {
        "id": "QrB9ebUpe26H"
      },
      "execution_count": 10,
      "outputs": []
    },
    {
      "cell_type": "markdown",
      "metadata": {
        "id": "dAoSECOm203v"
      },
      "source": [
        "### Step 4 - Full Connection"
      ]
    },
    {
      "cell_type": "code",
      "source": [
        "cnn.add(tf.keras.layers.Dense(units = 128, activation = 'relu'))"
      ],
      "metadata": {
        "id": "PdvT8OeAfITB"
      },
      "execution_count": 11,
      "outputs": []
    },
    {
      "cell_type": "markdown",
      "metadata": {
        "id": "yTldFvbX28Na"
      },
      "source": [
        "### Step 5 - Output Layer"
      ]
    },
    {
      "cell_type": "code",
      "source": [
        "cnn.add(tf.keras.layers.Dense(units = 1,activation = 'sigmoid'))"
      ],
      "metadata": {
        "id": "ENl8d-Jsfmxs"
      },
      "execution_count": 12,
      "outputs": []
    },
    {
      "cell_type": "markdown",
      "metadata": {
        "id": "D6XkI90snSDl"
      },
      "source": [
        "## Part 3 - Training the CNN"
      ]
    },
    {
      "cell_type": "markdown",
      "metadata": {
        "id": "vfrFQACEnc6i"
      },
      "source": [
        "### Compiling the CNN"
      ]
    },
    {
      "cell_type": "code",
      "source": [
        "cnn.compile(optimizer = 'adam',loss = 'binary_crossentropy', metrics = ['accuracy'])"
      ],
      "metadata": {
        "id": "Iyf--DNZf9e2"
      },
      "execution_count": 13,
      "outputs": []
    },
    {
      "cell_type": "markdown",
      "metadata": {
        "id": "ehS-v3MIpX2h"
      },
      "source": [
        "### Training the CNN on the Training set and evaluating it on the Test set"
      ]
    },
    {
      "cell_type": "code",
      "source": [
        "cnn.fit(x = training_set, validation_data = test_set, epochs = 25)"
      ],
      "metadata": {
        "id": "zYPtncbugR7d",
        "colab": {
          "base_uri": "https://localhost:8080/"
        },
        "outputId": "f68ddc2d-5992-4ab6-d509-8e9435ca8858"
      },
      "execution_count": 14,
      "outputs": [
        {
          "output_type": "stream",
          "name": "stdout",
          "text": [
            "Epoch 1/25\n",
            "251/251 [==============================] - 1269s 5s/step - loss: 0.6732 - accuracy: 0.5784 - val_loss: 0.6688 - val_accuracy: 0.5960\n",
            "Epoch 2/25\n",
            "251/251 [==============================] - 64s 255ms/step - loss: 0.6107 - accuracy: 0.6674 - val_loss: 0.5791 - val_accuracy: 0.7030\n",
            "Epoch 3/25\n",
            "251/251 [==============================] - 65s 259ms/step - loss: 0.5660 - accuracy: 0.7041 - val_loss: 0.5945 - val_accuracy: 0.6840\n",
            "Epoch 4/25\n",
            "251/251 [==============================] - 64s 256ms/step - loss: 0.5283 - accuracy: 0.7360 - val_loss: 0.5490 - val_accuracy: 0.7240\n",
            "Epoch 5/25\n",
            "251/251 [==============================] - 65s 257ms/step - loss: 0.5066 - accuracy: 0.7478 - val_loss: 0.5107 - val_accuracy: 0.7540\n",
            "Epoch 6/25\n",
            "251/251 [==============================] - 66s 261ms/step - loss: 0.4856 - accuracy: 0.7635 - val_loss: 0.4959 - val_accuracy: 0.7590\n",
            "Epoch 7/25\n",
            "251/251 [==============================] - 65s 258ms/step - loss: 0.4663 - accuracy: 0.7790 - val_loss: 0.4734 - val_accuracy: 0.7825\n",
            "Epoch 8/25\n",
            "251/251 [==============================] - 65s 260ms/step - loss: 0.4395 - accuracy: 0.7908 - val_loss: 0.4687 - val_accuracy: 0.7780\n",
            "Epoch 9/25\n",
            "251/251 [==============================] - 64s 255ms/step - loss: 0.4356 - accuracy: 0.7985 - val_loss: 0.4695 - val_accuracy: 0.7765\n",
            "Epoch 10/25\n",
            "251/251 [==============================] - 65s 258ms/step - loss: 0.4202 - accuracy: 0.8051 - val_loss: 0.4547 - val_accuracy: 0.7885\n",
            "Epoch 11/25\n",
            "251/251 [==============================] - 63s 250ms/step - loss: 0.4075 - accuracy: 0.8170 - val_loss: 0.4420 - val_accuracy: 0.8015\n",
            "Epoch 12/25\n",
            "251/251 [==============================] - 65s 259ms/step - loss: 0.3911 - accuracy: 0.8262 - val_loss: 0.4862 - val_accuracy: 0.7755\n",
            "Epoch 13/25\n",
            "251/251 [==============================] - 65s 258ms/step - loss: 0.3720 - accuracy: 0.8295 - val_loss: 0.4539 - val_accuracy: 0.7950\n",
            "Epoch 14/25\n",
            "251/251 [==============================] - 64s 253ms/step - loss: 0.3658 - accuracy: 0.8342 - val_loss: 0.4484 - val_accuracy: 0.7915\n",
            "Epoch 15/25\n",
            "251/251 [==============================] - 65s 259ms/step - loss: 0.3377 - accuracy: 0.8542 - val_loss: 0.4730 - val_accuracy: 0.7935\n",
            "Epoch 16/25\n",
            "251/251 [==============================] - 65s 260ms/step - loss: 0.3283 - accuracy: 0.8544 - val_loss: 0.4562 - val_accuracy: 0.8080\n",
            "Epoch 17/25\n",
            "251/251 [==============================] - 64s 256ms/step - loss: 0.3174 - accuracy: 0.8568 - val_loss: 0.4879 - val_accuracy: 0.7940\n",
            "Epoch 18/25\n",
            "251/251 [==============================] - 65s 258ms/step - loss: 0.3028 - accuracy: 0.8725 - val_loss: 0.4362 - val_accuracy: 0.8095\n",
            "Epoch 19/25\n",
            "251/251 [==============================] - 63s 253ms/step - loss: 0.2948 - accuracy: 0.8703 - val_loss: 0.5028 - val_accuracy: 0.8055\n",
            "Epoch 20/25\n",
            "251/251 [==============================] - 65s 257ms/step - loss: 0.2826 - accuracy: 0.8801 - val_loss: 0.5118 - val_accuracy: 0.7985\n",
            "Epoch 21/25\n",
            "251/251 [==============================] - 65s 257ms/step - loss: 0.2615 - accuracy: 0.8903 - val_loss: 0.5015 - val_accuracy: 0.8095\n",
            "Epoch 22/25\n",
            "251/251 [==============================] - 65s 259ms/step - loss: 0.2546 - accuracy: 0.8911 - val_loss: 0.4853 - val_accuracy: 0.8045\n",
            "Epoch 23/25\n",
            "251/251 [==============================] - 64s 255ms/step - loss: 0.2549 - accuracy: 0.8934 - val_loss: 0.4971 - val_accuracy: 0.8070\n",
            "Epoch 24/25\n",
            "251/251 [==============================] - 65s 261ms/step - loss: 0.2260 - accuracy: 0.9067 - val_loss: 0.4906 - val_accuracy: 0.8180\n",
            "Epoch 25/25\n",
            "251/251 [==============================] - 65s 257ms/step - loss: 0.2241 - accuracy: 0.9080 - val_loss: 0.4899 - val_accuracy: 0.8100\n"
          ]
        },
        {
          "output_type": "execute_result",
          "data": {
            "text/plain": [
              "<keras.callbacks.History at 0x7fe3213b64d0>"
            ]
          },
          "metadata": {},
          "execution_count": 14
        }
      ]
    },
    {
      "cell_type": "markdown",
      "metadata": {
        "id": "U3PZasO0006Z"
      },
      "source": [
        "## Part 4 - Making a single prediction"
      ]
    },
    {
      "cell_type": "code",
      "source": [
        "import numpy as np\n",
        "from keras.preprocessing import image\n",
        "test_image = tf.keras.utils.load_img('/content/drive/MyDrive/dataset/single_prediction/cat_or_dog_1.jpg',target_size = (64,64))\n",
        "test_image = tf.keras.utils.img_to_array(test_image)\n",
        "test_image = np.expand_dims(test_image, axis = 0)\n",
        "result = cnn.predict(test_image/255.0) #To normalize the images\n",
        "training_set.class_indices\n",
        "if result[0][0] > 0.05:\n",
        "  prediction = 'dog'\n",
        "else:\n",
        "  prediction = 'cat'\n",
        "print(prediction)"
      ],
      "metadata": {
        "id": "-XNUcX3pg3H9",
        "colab": {
          "base_uri": "https://localhost:8080/"
        },
        "outputId": "f4b54b45-9fe0-4cf3-863a-0e27eaf87b23"
      },
      "execution_count": 30,
      "outputs": [
        {
          "output_type": "stream",
          "name": "stdout",
          "text": [
            "1/1 [==============================] - 0s 117ms/step\n",
            "dog\n"
          ]
        }
      ]
    },
    {
      "cell_type": "markdown",
      "source": [
        "#### This result is correct."
      ],
      "metadata": {
        "id": "v98dSDAP2xyR"
      }
    }
  ]
}